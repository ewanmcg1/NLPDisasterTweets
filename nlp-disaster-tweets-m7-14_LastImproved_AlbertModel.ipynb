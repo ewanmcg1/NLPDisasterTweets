{
 "cells": [
  {
   "cell_type": "code",
   "execution_count": 1,
   "id": "e870dcdc",
   "metadata": {
    "execution": {
     "iopub.execute_input": "2024-11-16T01:11:37.129372Z",
     "iopub.status.busy": "2024-11-16T01:11:37.128996Z",
     "iopub.status.idle": "2024-11-16T01:11:52.542467Z",
     "shell.execute_reply": "2024-11-16T01:11:52.541318Z"
    },
    "papermill": {
     "duration": 15.420855,
     "end_time": "2024-11-16T01:11:52.544684",
     "exception": false,
     "start_time": "2024-11-16T01:11:37.123829",
     "status": "completed"
    },
    "tags": []
   },
   "outputs": [
    {
     "name": "stdout",
     "output_type": "stream",
     "text": [
      "Using TensorFlow backend\n",
      "TensorFlow version: 2.16.1\n",
      "KerasNLP version: 0.15.1\n"
     ]
    }
   ],
   "source": [
    "import numpy as np # linear algebra\n",
    "import pandas as pd # data processing, CSV file I/O (e.g. pd.read_csv)\n",
    "import tensorflow as tf\n",
    "import keras_core as keras\n",
    "import keras_nlp\n",
    "from sklearn.metrics import ConfusionMatrixDisplay, confusion_matrix\n",
    "import seaborn as sns\n",
    "import matplotlib.pyplot as plt\n",
    "\n",
    "print(\"TensorFlow version:\", tf.__version__)\n",
    "print(\"KerasNLP version:\", keras_nlp.__version__)"
   ]
  },
  {
   "cell_type": "code",
   "execution_count": 2,
   "id": "51ff4f51",
   "metadata": {
    "execution": {
     "iopub.execute_input": "2024-11-16T01:11:52.552998Z",
     "iopub.status.busy": "2024-11-16T01:11:52.552452Z",
     "iopub.status.idle": "2024-11-16T01:11:52.641775Z",
     "shell.execute_reply": "2024-11-16T01:11:52.640687Z"
    },
    "papermill": {
     "duration": 0.095578,
     "end_time": "2024-11-16T01:11:52.643882",
     "exception": false,
     "start_time": "2024-11-16T01:11:52.548304",
     "status": "completed"
    },
    "tags": []
   },
   "outputs": [
    {
     "name": "stdout",
     "output_type": "stream",
     "text": [
      "Training Set Shape = (7613, 5)\n",
      "Training Set Memory Usage = 0.29 MB\n",
      "Test Set Shape = (3263, 4)\n",
      "Test Set Memory Usage = 0.10 MB\n"
     ]
    }
   ],
   "source": [
    "df_train = pd.read_csv(\"/kaggle/input/nlp-getting-started/train.csv\")\n",
    "df_test = pd.read_csv(\"/kaggle/input/nlp-getting-started/test.csv\")\n",
    "\n",
    "print('Training Set Shape = {}'.format(df_train.shape))\n",
    "print('Training Set Memory Usage = {:.2f} MB'.format(df_train.memory_usage().sum() / 1024**2))\n",
    "print('Test Set Shape = {}'.format(df_test.shape))\n",
    "print('Test Set Memory Usage = {:.2f} MB'.format(df_test.memory_usage().sum() / 1024**2))"
   ]
  },
  {
   "cell_type": "code",
   "execution_count": 3,
   "id": "096cdc0a",
   "metadata": {
    "execution": {
     "iopub.execute_input": "2024-11-16T01:11:52.652108Z",
     "iopub.status.busy": "2024-11-16T01:11:52.651774Z",
     "iopub.status.idle": "2024-11-16T01:11:52.666213Z",
     "shell.execute_reply": "2024-11-16T01:11:52.665331Z"
    },
    "papermill": {
     "duration": 0.020831,
     "end_time": "2024-11-16T01:11:52.668221",
     "exception": false,
     "start_time": "2024-11-16T01:11:52.647390",
     "status": "completed"
    },
    "tags": []
   },
   "outputs": [
    {
     "data": {
      "text/html": [
       "<div>\n",
       "<style scoped>\n",
       "    .dataframe tbody tr th:only-of-type {\n",
       "        vertical-align: middle;\n",
       "    }\n",
       "\n",
       "    .dataframe tbody tr th {\n",
       "        vertical-align: top;\n",
       "    }\n",
       "\n",
       "    .dataframe thead th {\n",
       "        text-align: right;\n",
       "    }\n",
       "</style>\n",
       "<table border=\"1\" class=\"dataframe\">\n",
       "  <thead>\n",
       "    <tr style=\"text-align: right;\">\n",
       "      <th></th>\n",
       "      <th>id</th>\n",
       "      <th>keyword</th>\n",
       "      <th>location</th>\n",
       "      <th>text</th>\n",
       "      <th>target</th>\n",
       "    </tr>\n",
       "  </thead>\n",
       "  <tbody>\n",
       "    <tr>\n",
       "      <th>0</th>\n",
       "      <td>1</td>\n",
       "      <td>NaN</td>\n",
       "      <td>NaN</td>\n",
       "      <td>Our Deeds are the Reason of this #earthquake M...</td>\n",
       "      <td>1</td>\n",
       "    </tr>\n",
       "    <tr>\n",
       "      <th>1</th>\n",
       "      <td>4</td>\n",
       "      <td>NaN</td>\n",
       "      <td>NaN</td>\n",
       "      <td>Forest fire near La Ronge Sask. Canada</td>\n",
       "      <td>1</td>\n",
       "    </tr>\n",
       "    <tr>\n",
       "      <th>2</th>\n",
       "      <td>5</td>\n",
       "      <td>NaN</td>\n",
       "      <td>NaN</td>\n",
       "      <td>All residents asked to 'shelter in place' are ...</td>\n",
       "      <td>1</td>\n",
       "    </tr>\n",
       "    <tr>\n",
       "      <th>3</th>\n",
       "      <td>6</td>\n",
       "      <td>NaN</td>\n",
       "      <td>NaN</td>\n",
       "      <td>13,000 people receive #wildfires evacuation or...</td>\n",
       "      <td>1</td>\n",
       "    </tr>\n",
       "    <tr>\n",
       "      <th>4</th>\n",
       "      <td>7</td>\n",
       "      <td>NaN</td>\n",
       "      <td>NaN</td>\n",
       "      <td>Just got sent this photo from Ruby #Alaska as ...</td>\n",
       "      <td>1</td>\n",
       "    </tr>\n",
       "  </tbody>\n",
       "</table>\n",
       "</div>"
      ],
      "text/plain": [
       "   id keyword location                                               text  \\\n",
       "0   1     NaN      NaN  Our Deeds are the Reason of this #earthquake M...   \n",
       "1   4     NaN      NaN             Forest fire near La Ronge Sask. Canada   \n",
       "2   5     NaN      NaN  All residents asked to 'shelter in place' are ...   \n",
       "3   6     NaN      NaN  13,000 people receive #wildfires evacuation or...   \n",
       "4   7     NaN      NaN  Just got sent this photo from Ruby #Alaska as ...   \n",
       "\n",
       "   target  \n",
       "0       1  \n",
       "1       1  \n",
       "2       1  \n",
       "3       1  \n",
       "4       1  "
      ]
     },
     "execution_count": 3,
     "metadata": {},
     "output_type": "execute_result"
    }
   ],
   "source": [
    "df_train.head()"
   ]
  },
  {
   "cell_type": "code",
   "execution_count": 4,
   "id": "9a5a2c43",
   "metadata": {
    "execution": {
     "iopub.execute_input": "2024-11-16T01:11:52.677895Z",
     "iopub.status.busy": "2024-11-16T01:11:52.677580Z",
     "iopub.status.idle": "2024-11-16T01:11:52.689565Z",
     "shell.execute_reply": "2024-11-16T01:11:52.688674Z"
    },
    "papermill": {
     "duration": 0.019382,
     "end_time": "2024-11-16T01:11:52.691561",
     "exception": false,
     "start_time": "2024-11-16T01:11:52.672179",
     "status": "completed"
    },
    "tags": []
   },
   "outputs": [
    {
     "data": {
      "text/html": [
       "<div>\n",
       "<style scoped>\n",
       "    .dataframe tbody tr th:only-of-type {\n",
       "        vertical-align: middle;\n",
       "    }\n",
       "\n",
       "    .dataframe tbody tr th {\n",
       "        vertical-align: top;\n",
       "    }\n",
       "\n",
       "    .dataframe thead th {\n",
       "        text-align: right;\n",
       "    }\n",
       "</style>\n",
       "<table border=\"1\" class=\"dataframe\">\n",
       "  <thead>\n",
       "    <tr style=\"text-align: right;\">\n",
       "      <th></th>\n",
       "      <th>id</th>\n",
       "      <th>keyword</th>\n",
       "      <th>location</th>\n",
       "      <th>text</th>\n",
       "    </tr>\n",
       "  </thead>\n",
       "  <tbody>\n",
       "    <tr>\n",
       "      <th>0</th>\n",
       "      <td>0</td>\n",
       "      <td>NaN</td>\n",
       "      <td>NaN</td>\n",
       "      <td>Just happened a terrible car crash</td>\n",
       "    </tr>\n",
       "    <tr>\n",
       "      <th>1</th>\n",
       "      <td>2</td>\n",
       "      <td>NaN</td>\n",
       "      <td>NaN</td>\n",
       "      <td>Heard about #earthquake is different cities, s...</td>\n",
       "    </tr>\n",
       "    <tr>\n",
       "      <th>2</th>\n",
       "      <td>3</td>\n",
       "      <td>NaN</td>\n",
       "      <td>NaN</td>\n",
       "      <td>there is a forest fire at spot pond, geese are...</td>\n",
       "    </tr>\n",
       "    <tr>\n",
       "      <th>3</th>\n",
       "      <td>9</td>\n",
       "      <td>NaN</td>\n",
       "      <td>NaN</td>\n",
       "      <td>Apocalypse lighting. #Spokane #wildfires</td>\n",
       "    </tr>\n",
       "    <tr>\n",
       "      <th>4</th>\n",
       "      <td>11</td>\n",
       "      <td>NaN</td>\n",
       "      <td>NaN</td>\n",
       "      <td>Typhoon Soudelor kills 28 in China and Taiwan</td>\n",
       "    </tr>\n",
       "  </tbody>\n",
       "</table>\n",
       "</div>"
      ],
      "text/plain": [
       "   id keyword location                                               text\n",
       "0   0     NaN      NaN                 Just happened a terrible car crash\n",
       "1   2     NaN      NaN  Heard about #earthquake is different cities, s...\n",
       "2   3     NaN      NaN  there is a forest fire at spot pond, geese are...\n",
       "3   9     NaN      NaN           Apocalypse lighting. #Spokane #wildfires\n",
       "4  11     NaN      NaN      Typhoon Soudelor kills 28 in China and Taiwan"
      ]
     },
     "execution_count": 4,
     "metadata": {},
     "output_type": "execute_result"
    }
   ],
   "source": [
    "df_test.head()"
   ]
  },
  {
   "cell_type": "code",
   "execution_count": 5,
   "id": "8bd8058a",
   "metadata": {
    "execution": {
     "iopub.execute_input": "2024-11-16T01:11:52.701021Z",
     "iopub.status.busy": "2024-11-16T01:11:52.700151Z",
     "iopub.status.idle": "2024-11-16T01:11:52.724009Z",
     "shell.execute_reply": "2024-11-16T01:11:52.722842Z"
    },
    "papermill": {
     "duration": 0.030709,
     "end_time": "2024-11-16T01:11:52.726229",
     "exception": false,
     "start_time": "2024-11-16T01:11:52.695520",
     "status": "completed"
    },
    "tags": []
   },
   "outputs": [
    {
     "name": "stdout",
     "output_type": "stream",
     "text": [
      "Train Length Stat\n",
      "count    7613.000000\n",
      "mean      101.037436\n",
      "std        33.781325\n",
      "min         7.000000\n",
      "25%        78.000000\n",
      "50%       107.000000\n",
      "75%       133.000000\n",
      "max       157.000000\n",
      "Name: length, dtype: float64\n",
      "\n",
      "Test Length Stat\n",
      "count    3263.000000\n",
      "mean      102.108183\n",
      "std        33.972158\n",
      "min         5.000000\n",
      "25%        78.000000\n",
      "50%       109.000000\n",
      "75%       134.000000\n",
      "max       151.000000\n",
      "Name: length, dtype: float64\n"
     ]
    }
   ],
   "source": [
    "df_train[\"length\"] = df_train[\"text\"].apply(lambda x : len(x))\n",
    "df_test[\"length\"] = df_test[\"text\"].apply(lambda x : len(x))\n",
    "\n",
    "print(\"Train Length Stat\")\n",
    "print(df_train[\"length\"].describe())\n",
    "print()\n",
    "\n",
    "print(\"Test Length Stat\")\n",
    "print(df_test[\"length\"].describe())"
   ]
  },
  {
   "cell_type": "code",
   "execution_count": 6,
   "id": "59f07ec3",
   "metadata": {
    "execution": {
     "iopub.execute_input": "2024-11-16T01:11:52.735805Z",
     "iopub.status.busy": "2024-11-16T01:11:52.735469Z",
     "iopub.status.idle": "2024-11-16T01:11:52.740855Z",
     "shell.execute_reply": "2024-11-16T01:11:52.739868Z"
    },
    "papermill": {
     "duration": 0.012607,
     "end_time": "2024-11-16T01:11:52.742888",
     "exception": false,
     "start_time": "2024-11-16T01:11:52.730281",
     "status": "completed"
    },
    "tags": []
   },
   "outputs": [],
   "source": [
    "BATCH_SIZE = 32\n",
    "NUM_TRAINING_EXAMPLES = df_train.shape[0]\n",
    "TRAIN_SPLIT = 0.8\n",
    "VAL_SPLIT = 0.2\n",
    "STEPS_PER_EPOCH = int(NUM_TRAINING_EXAMPLES)*TRAIN_SPLIT // BATCH_SIZE\n",
    "\n",
    "EPOCHS = 2\n",
    "AUTO = tf.data.experimental.AUTOTUNE"
   ]
  },
  {
   "cell_type": "code",
   "execution_count": 7,
   "id": "e325969f",
   "metadata": {
    "execution": {
     "iopub.execute_input": "2024-11-16T01:11:52.753241Z",
     "iopub.status.busy": "2024-11-16T01:11:52.752934Z",
     "iopub.status.idle": "2024-11-16T01:11:52.786151Z",
     "shell.execute_reply": "2024-11-16T01:11:52.785108Z"
    },
    "papermill": {
     "duration": 0.041292,
     "end_time": "2024-11-16T01:11:52.789335",
     "exception": false,
     "start_time": "2024-11-16T01:11:52.748043",
     "status": "completed"
    },
    "tags": []
   },
   "outputs": [],
   "source": [
    "from sklearn.model_selection import train_test_split\n",
    "\n",
    "X = df_train[\"text\"]\n",
    "y = df_train[\"target\"]\n",
    "\n",
    "X_train, X_val, y_train, y_val = train_test_split(X, y, test_size=VAL_SPLIT, random_state=42)\n",
    "\n",
    "X_test = df_test[\"text\"]"
   ]
  },
  {
   "cell_type": "code",
   "execution_count": 8,
   "id": "7d424236",
   "metadata": {
    "execution": {
     "iopub.execute_input": "2024-11-16T01:11:52.802355Z",
     "iopub.status.busy": "2024-11-16T01:11:52.802064Z",
     "iopub.status.idle": "2024-11-16T01:16:25.029729Z",
     "shell.execute_reply": "2024-11-16T01:16:25.028736Z"
    },
    "papermill": {
     "duration": 272.236243,
     "end_time": "2024-11-16T01:16:25.031920",
     "exception": false,
     "start_time": "2024-11-16T01:11:52.795677",
     "status": "completed"
    },
    "tags": []
   },
   "outputs": [
    {
     "name": "stdout",
     "output_type": "stream",
     "text": [
      "Epoch 1/2\n"
     ]
    },
    {
     "name": "stderr",
     "output_type": "stream",
     "text": [
      "WARNING: All log messages before absl::InitializeLog() is called are written to STDERR\n",
      "I0000 00:00:1731719536.592262      65 service.cc:145] XLA service 0x7d3d480061b0 initialized for platform CUDA (this does not guarantee that XLA will be used). Devices:\n",
      "I0000 00:00:1731719536.592321      65 service.cc:153]   StreamExecutor device (0): Tesla P100-PCIE-16GB, Compute Capability 6.0\n",
      "I0000 00:00:1731719547.573554      65 device_compiler.h:188] Compiled cluster using XLA!  This line is logged at most once for the lifetime of the process.\n"
     ]
    },
    {
     "name": "stdout",
     "output_type": "stream",
     "text": [
      "\u001b[1m191/191\u001b[0m \u001b[32m━━━━━━━━━━━━━━━━━━━━\u001b[0m\u001b[37m\u001b[0m \u001b[1m122s\u001b[0m 508ms/step - accuracy: 0.6380 - loss: 0.6270 - val_accuracy: 0.7374 - val_loss: 0.5422\n",
      "Epoch 2/2\n",
      "\u001b[1m191/191\u001b[0m \u001b[32m━━━━━━━━━━━━━━━━━━━━\u001b[0m\u001b[37m\u001b[0m \u001b[1m84s\u001b[0m 437ms/step - accuracy: 0.7565 - loss: 0.5107 - val_accuracy: 0.7623 - val_loss: 0.5084\n",
      "\u001b[1m191/191\u001b[0m \u001b[32m━━━━━━━━━━━━━━━━━━━━\u001b[0m\u001b[37m\u001b[0m \u001b[1m31s\u001b[0m 148ms/step\n",
      "\u001b[1m48/48\u001b[0m \u001b[32m━━━━━━━━━━━━━━━━━━━━\u001b[0m\u001b[37m\u001b[0m \u001b[1m8s\u001b[0m 161ms/step\n"
     ]
    },
    {
     "data": {
      "image/png": "[encoded data removed]",
      "text/plain": [
       "<Figure size 640x480 with 2 Axes>"
      ]
     },
     "metadata": {},
     "output_type": "display_data"
    },
    {
     "data": {
      "image/png": "[encoded data removed]",
      "text/plain": [
       "<Figure size 640x480 with 2 Axes>"
      ]
     },
     "metadata": {},
     "output_type": "display_data"
    },
    {
     "name": "stdout",
     "output_type": "stream",
     "text": [
      "\u001b[1m102/102\u001b[0m \u001b[32m━━━━━━━━━━━━━━━━━━━━\u001b[0m\u001b[37m\u001b[0m \u001b[1m15s\u001b[0m 150ms/step\n"
     ]
    }
   ],
   "source": [
    "import pandas as pd  # Import pandas for DataFrame operations\n",
    "import keras_nlp\n",
    "import tensorflow as tf\n",
    "from sklearn.metrics import ConfusionMatrixDisplay, confusion_matrix\n",
    "import matplotlib.pyplot as plt\n",
    "\n",
    "# Define the displayConfusionMatrix function\n",
    "def displayConfusionMatrix(y_true, y_pred, dataset):\n",
    "    \"\"\"\n",
    "    Displays the confusion matrix for a given dataset and predictions.\n",
    "    \n",
    "    Args:\n",
    "    - y_true: Actual labels\n",
    "    - y_pred: Predicted labels (logits)\n",
    "    - dataset: Name of the dataset (e.g., \"Training\", \"Validation\")\n",
    "    \"\"\"\n",
    "    # Convert predictions to class labels\n",
    "    y_pred_classes = tf.argmax(y_pred, axis=1).numpy()\n",
    "\n",
    "    # Generate the confusion matrix\n",
    "    cm = confusion_matrix(y_true, y_pred_classes)\n",
    "    disp = ConfusionMatrixDisplay(confusion_matrix=cm, display_labels=[\"Not Disaster\", \"Disaster\"])\n",
    "\n",
    "    # Plot the confusion matrix\n",
    "    disp.plot(cmap=plt.cm.Blues)\n",
    "    plt.title(f\"Confusion Matrix for {dataset} Dataset\")\n",
    "    plt.show()\n",
    "\n",
    "# Use the ALBERT base preset from KerasNLP\n",
    "preset = \"albert_base_en_uncased\"\n",
    "\n",
    "# Preprocessor for the ALBERT model\n",
    "preprocessor = keras_nlp.models.AlbertPreprocessor.from_preset(\n",
    "    preset,\n",
    "    sequence_length=160  # Adjust based on GPU memory\n",
    ")\n",
    "\n",
    "# ALBERT Classifier\n",
    "classifier = keras_nlp.models.AlbertClassifier.from_preset(\n",
    "    preset,\n",
    "    preprocessor=preprocessor,\n",
    "    num_classes=2\n",
    ")\n",
    "\n",
    "# Compile the classifier\n",
    "classifier.compile(\n",
    "    loss=tf.keras.losses.SparseCategoricalCrossentropy(from_logits=True),\n",
    "    optimizer=tf.keras.optimizers.Adam(3e-5),\n",
    "    metrics=[\"accuracy\"]\n",
    ")\n",
    "\n",
    "# Train the model\n",
    "history = classifier.fit(\n",
    "    x=X_train,\n",
    "    y=y_train,\n",
    "    batch_size=BATCH_SIZE,\n",
    "    epochs=EPOCHS,\n",
    "    validation_data=(X_val, y_val)\n",
    ")\n",
    "\n",
    "# Predict and evaluate\n",
    "y_pred_train = classifier.predict(X_train)\n",
    "y_pred_val = classifier.predict(X_val)\n",
    "\n",
    "# Display confusion matrices\n",
    "displayConfusionMatrix(y_train, y_pred_train, \"Training\")\n",
    "displayConfusionMatrix(y_val, y_pred_val, \"Validation\")\n",
    "\n",
    "# Generate predictions for the test set\n",
    "test_predictions = classifier.predict(X_test)\n",
    "\n",
    "# Ensure test_ids are available (if provided in a separate CSV or dataset)\n",
    "# Assuming test_ids are given or are part of your dataset\n",
    "test_ids = pd.read_csv(\"/kaggle/input/nlp-getting-started/sample_submission.csv\")[\"id\"]\n",
    "\n",
    "# Create sample_submission DataFrame using correct test_ids\n",
    "sample_submission = pd.DataFrame({\n",
    "    \"id\": test_ids,  # Use actual test IDs from the provided data\n",
    "    \"target\": [0] * len(test_ids)  # Initialize with dummy values\n",
    "})\n",
    "\n",
    "# Update predictions in the DataFrame\n",
    "sample_submission[\"target\"] = tf.argmax(test_predictions, axis=1).numpy()\n",
    "\n",
    "# Save to CSV\n",
    "sample_submission.to_csv(\"submission.csv\", index=False)\n"
   ]
  }
 ],
 "metadata": {
  "kaggle": {
   "accelerator": "gpu",
   "dataSources": [
    {
     "datasetId": 6063280,
     "sourceId": 9876095,
     "sourceType": "datasetVersion"
    },
    {
     "modelId": 2817,
     "modelInstanceId": 4668,
     "sourceId": 6047,
     "sourceType": "modelInstanceVersion"
    },
    {
     "modelId": 2819,
     "modelInstanceId": 4679,
     "sourceId": 6058,
     "sourceType": "modelInstanceVersion"
    },
    {
     "modelId": 2821,
     "modelInstanceId": 4689,
     "sourceId": 6068,
     "sourceType": "modelInstanceVersion"
    }
   ],
   "dockerImageVersionId": 30786,
   "isGpuEnabled": true,
   "isInternetEnabled": false,
   "language": "python",
   "sourceType": "notebook"
  },
  "kernelspec": {
   "display_name": "Python 3",
   "language": "python",
   "name": "python3"
  },
  "language_info": {
   "codemirror_mode": {
    "name": "ipython",
    "version": 3
   },
   "file_extension": ".py",
   "mimetype": "text/x-python",
   "name": "python",
   "nbconvert_exporter": "python",
   "pygments_lexer": "ipython3",
   "version": "3.10.14"
  },
  "papermill": {
   "default_parameters": {},
   "duration": 293.793857,
   "end_time": "2024-11-16T01:16:28.240228",
   "environment_variables": {},
   "exception": null,
   "input_path": "__notebook__.ipynb",
   "output_path": "__notebook__.ipynb",
   "parameters": {},
   "start_time": "2024-11-16T01:11:34.446371",
   "version": "2.6.0"
  }
 },
 "nbformat": 4,
 "nbformat_minor": 5
}
